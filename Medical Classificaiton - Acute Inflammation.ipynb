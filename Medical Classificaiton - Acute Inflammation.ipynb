{
 "cells": [
  {
   "cell_type": "markdown",
   "metadata": {},
   "source": [
    "# Medical Classification - Acute Inflammation\n",
    "In this dataset we look to classify if the patient has 'inflammation of urinary bladder' or 'Nephritis of renal pelvis origin'. To solve this problem I would clean and split the dataset and then make sepearte models for the two conditions.\n",
    "\n",
    "**Dataset:** Acute Inflammation from UCI ML repository\n",
    "\n",
    "**Dataset Cited from:** J.Czerniak, H.Zarzycki, Application of rough sets in the presumptive diagnosis of urinary system diseases,Artifical Inteligence and Security in Computing Systems, ACS'2002 9th International Conference Proceedings,Kluwer Academic Publishers,2003, pp. 41-51 "
   ]
  },
  {
   "cell_type": "markdown",
   "metadata": {},
   "source": [
    "### Importing Libraries"
   ]
  },
  {
   "cell_type": "code",
   "execution_count": 1,
   "metadata": {},
   "outputs": [],
   "source": [
    "import pandas as pd\n",
    "import numpy as np\n",
    "import matplotlib.pyplot as plt"
   ]
  },
  {
   "cell_type": "markdown",
   "metadata": {},
   "source": [
    "### Data Pre-processing"
   ]
  },
  {
   "cell_type": "code",
   "execution_count": 2,
   "metadata": {},
   "outputs": [
    {
     "data": {
      "text/html": [
       "<div>\n",
       "<style scoped>\n",
       "    .dataframe tbody tr th:only-of-type {\n",
       "        vertical-align: middle;\n",
       "    }\n",
       "\n",
       "    .dataframe tbody tr th {\n",
       "        vertical-align: top;\n",
       "    }\n",
       "\n",
       "    .dataframe thead th {\n",
       "        text-align: right;\n",
       "    }\n",
       "</style>\n",
       "<table border=\"1\" class=\"dataframe\">\n",
       "  <thead>\n",
       "    <tr style=\"text-align: right;\">\n",
       "      <th></th>\n",
       "      <th>Temperature of Patient</th>\n",
       "      <th>Occurence of Nausea</th>\n",
       "      <th>Lumbar Pain</th>\n",
       "      <th>Urine Pushing</th>\n",
       "      <th>Micturition Pains</th>\n",
       "      <th>Burning of urethra, itch, swelling of urethra outlet</th>\n",
       "      <th>Inflammation of urinary bladder</th>\n",
       "      <th>Nephritis of renal pelvis origin</th>\n",
       "    </tr>\n",
       "  </thead>\n",
       "  <tbody>\n",
       "    <tr>\n",
       "      <th>0</th>\n",
       "      <td>35,5</td>\n",
       "      <td>no</td>\n",
       "      <td>yes</td>\n",
       "      <td>no</td>\n",
       "      <td>no</td>\n",
       "      <td>no</td>\n",
       "      <td>no</td>\n",
       "      <td>no</td>\n",
       "    </tr>\n",
       "    <tr>\n",
       "      <th>1</th>\n",
       "      <td>35,9</td>\n",
       "      <td>no</td>\n",
       "      <td>no</td>\n",
       "      <td>yes</td>\n",
       "      <td>yes</td>\n",
       "      <td>yes</td>\n",
       "      <td>yes</td>\n",
       "      <td>no</td>\n",
       "    </tr>\n",
       "    <tr>\n",
       "      <th>2</th>\n",
       "      <td>35,9</td>\n",
       "      <td>no</td>\n",
       "      <td>yes</td>\n",
       "      <td>no</td>\n",
       "      <td>no</td>\n",
       "      <td>no</td>\n",
       "      <td>no</td>\n",
       "      <td>no</td>\n",
       "    </tr>\n",
       "    <tr>\n",
       "      <th>3</th>\n",
       "      <td>36,0</td>\n",
       "      <td>no</td>\n",
       "      <td>no</td>\n",
       "      <td>yes</td>\n",
       "      <td>yes</td>\n",
       "      <td>yes</td>\n",
       "      <td>yes</td>\n",
       "      <td>no</td>\n",
       "    </tr>\n",
       "    <tr>\n",
       "      <th>4</th>\n",
       "      <td>36,0</td>\n",
       "      <td>no</td>\n",
       "      <td>yes</td>\n",
       "      <td>no</td>\n",
       "      <td>no</td>\n",
       "      <td>no</td>\n",
       "      <td>no</td>\n",
       "      <td>no</td>\n",
       "    </tr>\n",
       "    <tr>\n",
       "      <th>...</th>\n",
       "      <td>...</td>\n",
       "      <td>...</td>\n",
       "      <td>...</td>\n",
       "      <td>...</td>\n",
       "      <td>...</td>\n",
       "      <td>...</td>\n",
       "      <td>...</td>\n",
       "      <td>...</td>\n",
       "    </tr>\n",
       "    <tr>\n",
       "      <th>115</th>\n",
       "      <td>41,4</td>\n",
       "      <td>no</td>\n",
       "      <td>yes</td>\n",
       "      <td>yes</td>\n",
       "      <td>no</td>\n",
       "      <td>yes</td>\n",
       "      <td>no</td>\n",
       "      <td>yes</td>\n",
       "    </tr>\n",
       "    <tr>\n",
       "      <th>116</th>\n",
       "      <td>41,5</td>\n",
       "      <td>no</td>\n",
       "      <td>no</td>\n",
       "      <td>no</td>\n",
       "      <td>no</td>\n",
       "      <td>no</td>\n",
       "      <td>no</td>\n",
       "      <td>no</td>\n",
       "    </tr>\n",
       "    <tr>\n",
       "      <th>117</th>\n",
       "      <td>41,5</td>\n",
       "      <td>yes</td>\n",
       "      <td>yes</td>\n",
       "      <td>no</td>\n",
       "      <td>yes</td>\n",
       "      <td>no</td>\n",
       "      <td>no</td>\n",
       "      <td>yes</td>\n",
       "    </tr>\n",
       "    <tr>\n",
       "      <th>118</th>\n",
       "      <td>41,5</td>\n",
       "      <td>no</td>\n",
       "      <td>yes</td>\n",
       "      <td>yes</td>\n",
       "      <td>no</td>\n",
       "      <td>yes</td>\n",
       "      <td>no</td>\n",
       "      <td>yes</td>\n",
       "    </tr>\n",
       "    <tr>\n",
       "      <th>119</th>\n",
       "      <td>41,5</td>\n",
       "      <td>no</td>\n",
       "      <td>yes</td>\n",
       "      <td>yes</td>\n",
       "      <td>no</td>\n",
       "      <td>yes</td>\n",
       "      <td>no</td>\n",
       "      <td>yes</td>\n",
       "    </tr>\n",
       "  </tbody>\n",
       "</table>\n",
       "<p>120 rows × 8 columns</p>\n",
       "</div>"
      ],
      "text/plain": [
       "    Temperature of Patient Occurence of Nausea Lumbar Pain Urine Pushing  \\\n",
       "0                     35,5                  no         yes            no   \n",
       "1                     35,9                  no          no           yes   \n",
       "2                     35,9                  no         yes            no   \n",
       "3                     36,0                  no          no           yes   \n",
       "4                     36,0                  no         yes            no   \n",
       "..                     ...                 ...         ...           ...   \n",
       "115                   41,4                  no         yes           yes   \n",
       "116                   41,5                  no          no            no   \n",
       "117                   41,5                 yes         yes            no   \n",
       "118                   41,5                  no         yes           yes   \n",
       "119                   41,5                  no         yes           yes   \n",
       "\n",
       "    Micturition Pains Burning of urethra, itch, swelling of urethra outlet  \\\n",
       "0                  no                                                 no     \n",
       "1                 yes                                                yes     \n",
       "2                  no                                                 no     \n",
       "3                 yes                                                yes     \n",
       "4                  no                                                 no     \n",
       "..                ...                                                ...     \n",
       "115                no                                                yes     \n",
       "116                no                                                 no     \n",
       "117               yes                                                 no     \n",
       "118                no                                                yes     \n",
       "119                no                                                yes     \n",
       "\n",
       "    Inflammation of urinary bladder Nephritis of renal pelvis origin  \n",
       "0                                no                               no  \n",
       "1                               yes                               no  \n",
       "2                                no                               no  \n",
       "3                               yes                               no  \n",
       "4                                no                               no  \n",
       "..                              ...                              ...  \n",
       "115                              no                              yes  \n",
       "116                              no                               no  \n",
       "117                              no                              yes  \n",
       "118                              no                              yes  \n",
       "119                              no                              yes  \n",
       "\n",
       "[120 rows x 8 columns]"
      ]
     },
     "execution_count": 2,
     "metadata": {},
     "output_type": "execute_result"
    }
   ],
   "source": [
    "df = pd.read_csv('diagnosis.data', sep='\\t', encoding='UTF-16 LE', header=None)\n",
    "df.columns = ['Temperature of Patient', 'Occurence of Nausea', 'Lumbar Pain', 'Urine Pushing', 'Micturition Pains', 'Burning of urethra, itch, swelling of urethra outlet', 'Inflammation of urinary bladder', 'Nephritis of renal pelvis origin']\n",
    "df"
   ]
  },
  {
   "cell_type": "markdown",
   "metadata": {},
   "source": [
    "##### Checking for any missing or misplaced values"
   ]
  },
  {
   "cell_type": "code",
   "execution_count": 3,
   "metadata": {},
   "outputs": [
    {
     "data": {
      "text/html": [
       "<div>\n",
       "<style scoped>\n",
       "    .dataframe tbody tr th:only-of-type {\n",
       "        vertical-align: middle;\n",
       "    }\n",
       "\n",
       "    .dataframe tbody tr th {\n",
       "        vertical-align: top;\n",
       "    }\n",
       "\n",
       "    .dataframe thead th {\n",
       "        text-align: right;\n",
       "    }\n",
       "</style>\n",
       "<table border=\"1\" class=\"dataframe\">\n",
       "  <thead>\n",
       "    <tr style=\"text-align: right;\">\n",
       "      <th></th>\n",
       "      <th>Temperature of Patient</th>\n",
       "      <th>Occurence of Nausea</th>\n",
       "      <th>Lumbar Pain</th>\n",
       "      <th>Urine Pushing</th>\n",
       "      <th>Micturition Pains</th>\n",
       "      <th>Burning of urethra, itch, swelling of urethra outlet</th>\n",
       "      <th>Inflammation of urinary bladder</th>\n",
       "      <th>Nephritis of renal pelvis origin</th>\n",
       "    </tr>\n",
       "  </thead>\n",
       "  <tbody>\n",
       "    <tr>\n",
       "      <th>count</th>\n",
       "      <td>120</td>\n",
       "      <td>120</td>\n",
       "      <td>120</td>\n",
       "      <td>120</td>\n",
       "      <td>120</td>\n",
       "      <td>120</td>\n",
       "      <td>120</td>\n",
       "      <td>120</td>\n",
       "    </tr>\n",
       "    <tr>\n",
       "      <th>unique</th>\n",
       "      <td>44</td>\n",
       "      <td>2</td>\n",
       "      <td>2</td>\n",
       "      <td>2</td>\n",
       "      <td>2</td>\n",
       "      <td>2</td>\n",
       "      <td>2</td>\n",
       "      <td>2</td>\n",
       "    </tr>\n",
       "    <tr>\n",
       "      <th>top</th>\n",
       "      <td>37,0</td>\n",
       "      <td>no</td>\n",
       "      <td>yes</td>\n",
       "      <td>yes</td>\n",
       "      <td>no</td>\n",
       "      <td>no</td>\n",
       "      <td>no</td>\n",
       "      <td>no</td>\n",
       "    </tr>\n",
       "    <tr>\n",
       "      <th>freq</th>\n",
       "      <td>8</td>\n",
       "      <td>91</td>\n",
       "      <td>70</td>\n",
       "      <td>80</td>\n",
       "      <td>61</td>\n",
       "      <td>70</td>\n",
       "      <td>61</td>\n",
       "      <td>70</td>\n",
       "    </tr>\n",
       "  </tbody>\n",
       "</table>\n",
       "</div>"
      ],
      "text/plain": [
       "       Temperature of Patient Occurence of Nausea Lumbar Pain Urine Pushing  \\\n",
       "count                     120                 120         120           120   \n",
       "unique                     44                   2           2             2   \n",
       "top                      37,0                  no         yes           yes   \n",
       "freq                        8                  91          70            80   \n",
       "\n",
       "       Micturition Pains Burning of urethra, itch, swelling of urethra outlet  \\\n",
       "count                120                                                120     \n",
       "unique                 2                                                  2     \n",
       "top                   no                                                 no     \n",
       "freq                  61                                                 70     \n",
       "\n",
       "       Inflammation of urinary bladder Nephritis of renal pelvis origin  \n",
       "count                              120                              120  \n",
       "unique                               2                                2  \n",
       "top                                 no                               no  \n",
       "freq                                61                               70  "
      ]
     },
     "execution_count": 3,
     "metadata": {},
     "output_type": "execute_result"
    }
   ],
   "source": [
    "df.describe()"
   ]
  },
  {
   "cell_type": "markdown",
   "metadata": {},
   "source": [
    "Switching 'yes' for 1 and 'no' for 0, to some ML algorithms such as KNN or Logistic Regression. "
   ]
  },
  {
   "cell_type": "code",
   "execution_count": 4,
   "metadata": {},
   "outputs": [],
   "source": [
    "df['Occurence of Nausea'].replace(('yes', 'no'), (1, 0), inplace=True)\n",
    "df['Lumbar Pain'].replace(('yes', 'no'), (1, 0), inplace=True)\n",
    "df['Urine Pushing'].replace(('yes', 'no'), (1, 0), inplace=True)\n",
    "df['Micturition Pains'].replace(('yes', 'no'), (1, 0), inplace=True)\n",
    "df['Burning of urethra, itch, swelling of urethra outlet'].replace(('yes', 'no'), (1, 0), inplace=True)\n",
    "df['Inflammation of urinary bladder'].replace(('yes', 'no'), (1, 0), inplace=True)\n",
    "df['Nephritis of renal pelvis origin'].replace(('yes', 'no'), (1, 0), inplace=True)"
   ]
  },
  {
   "cell_type": "code",
   "execution_count": 5,
   "metadata": {},
   "outputs": [
    {
     "data": {
      "text/html": [
       "<div>\n",
       "<style scoped>\n",
       "    .dataframe tbody tr th:only-of-type {\n",
       "        vertical-align: middle;\n",
       "    }\n",
       "\n",
       "    .dataframe tbody tr th {\n",
       "        vertical-align: top;\n",
       "    }\n",
       "\n",
       "    .dataframe thead th {\n",
       "        text-align: right;\n",
       "    }\n",
       "</style>\n",
       "<table border=\"1\" class=\"dataframe\">\n",
       "  <thead>\n",
       "    <tr style=\"text-align: right;\">\n",
       "      <th></th>\n",
       "      <th>Temperature of Patient</th>\n",
       "      <th>Occurence of Nausea</th>\n",
       "      <th>Lumbar Pain</th>\n",
       "      <th>Urine Pushing</th>\n",
       "      <th>Micturition Pains</th>\n",
       "      <th>Burning of urethra, itch, swelling of urethra outlet</th>\n",
       "      <th>Inflammation of urinary bladder</th>\n",
       "      <th>Nephritis of renal pelvis origin</th>\n",
       "    </tr>\n",
       "  </thead>\n",
       "  <tbody>\n",
       "    <tr>\n",
       "      <th>0</th>\n",
       "      <td>35,5</td>\n",
       "      <td>0</td>\n",
       "      <td>1</td>\n",
       "      <td>0</td>\n",
       "      <td>0</td>\n",
       "      <td>0</td>\n",
       "      <td>0</td>\n",
       "      <td>0</td>\n",
       "    </tr>\n",
       "    <tr>\n",
       "      <th>1</th>\n",
       "      <td>35,9</td>\n",
       "      <td>0</td>\n",
       "      <td>0</td>\n",
       "      <td>1</td>\n",
       "      <td>1</td>\n",
       "      <td>1</td>\n",
       "      <td>1</td>\n",
       "      <td>0</td>\n",
       "    </tr>\n",
       "    <tr>\n",
       "      <th>2</th>\n",
       "      <td>35,9</td>\n",
       "      <td>0</td>\n",
       "      <td>1</td>\n",
       "      <td>0</td>\n",
       "      <td>0</td>\n",
       "      <td>0</td>\n",
       "      <td>0</td>\n",
       "      <td>0</td>\n",
       "    </tr>\n",
       "    <tr>\n",
       "      <th>3</th>\n",
       "      <td>36,0</td>\n",
       "      <td>0</td>\n",
       "      <td>0</td>\n",
       "      <td>1</td>\n",
       "      <td>1</td>\n",
       "      <td>1</td>\n",
       "      <td>1</td>\n",
       "      <td>0</td>\n",
       "    </tr>\n",
       "    <tr>\n",
       "      <th>4</th>\n",
       "      <td>36,0</td>\n",
       "      <td>0</td>\n",
       "      <td>1</td>\n",
       "      <td>0</td>\n",
       "      <td>0</td>\n",
       "      <td>0</td>\n",
       "      <td>0</td>\n",
       "      <td>0</td>\n",
       "    </tr>\n",
       "  </tbody>\n",
       "</table>\n",
       "</div>"
      ],
      "text/plain": [
       "  Temperature of Patient  Occurence of Nausea  Lumbar Pain  Urine Pushing  \\\n",
       "0                   35,5                    0            1              0   \n",
       "1                   35,9                    0            0              1   \n",
       "2                   35,9                    0            1              0   \n",
       "3                   36,0                    0            0              1   \n",
       "4                   36,0                    0            1              0   \n",
       "\n",
       "   Micturition Pains  Burning of urethra, itch, swelling of urethra outlet  \\\n",
       "0                  0                                                  0      \n",
       "1                  1                                                  1      \n",
       "2                  0                                                  0      \n",
       "3                  1                                                  1      \n",
       "4                  0                                                  0      \n",
       "\n",
       "   Inflammation of urinary bladder  Nephritis of renal pelvis origin  \n",
       "0                                0                                 0  \n",
       "1                                1                                 0  \n",
       "2                                0                                 0  \n",
       "3                                1                                 0  \n",
       "4                                0                                 0  "
      ]
     },
     "execution_count": 5,
     "metadata": {},
     "output_type": "execute_result"
    }
   ],
   "source": [
    "df.head()"
   ]
  },
  {
   "cell_type": "code",
   "execution_count": 6,
   "metadata": {},
   "outputs": [
    {
     "data": {
      "text/plain": [
       "Temperature of Patient                                  float64\n",
       "Occurence of Nausea                                       int64\n",
       "Lumbar Pain                                               int64\n",
       "Urine Pushing                                             int64\n",
       "Micturition Pains                                         int64\n",
       "Burning of urethra, itch, swelling of urethra outlet      int64\n",
       "Inflammation of urinary bladder                           int64\n",
       "Nephritis of renal pelvis origin                          int64\n",
       "dtype: object"
      ]
     },
     "execution_count": 6,
     "metadata": {},
     "output_type": "execute_result"
    }
   ],
   "source": [
    "df['Temperature of Patient'] = df['Temperature of Patient'].str.replace(',', '.')\n",
    "df['Temperature of Patient'] = pd.to_numeric(df['Temperature of Patient'])\n",
    "df.dtypes"
   ]
  },
  {
   "cell_type": "markdown",
   "metadata": {},
   "source": [
    "All datatypes are of the correct type, we will now split them and then standardize them. "
   ]
  },
  {
   "cell_type": "code",
   "execution_count": 7,
   "metadata": {},
   "outputs": [],
   "source": [
    "X = df.iloc[:, :-2]\n",
    "y1 = df.iloc[:, -2] # Class 1\n",
    "y2 = df.iloc[:, -1] # Class 2"
   ]
  },
  {
   "cell_type": "code",
   "execution_count": 8,
   "metadata": {},
   "outputs": [
    {
     "name": "stderr",
     "output_type": "stream",
     "text": [
      "C:\\Users\\zbtin\\anaconda3\\lib\\site-packages\\ipykernel_launcher.py:8: SettingWithCopyWarning: \n",
      "A value is trying to be set on a copy of a slice from a DataFrame.\n",
      "Try using .loc[row_indexer,col_indexer] = value instead\n",
      "\n",
      "See the caveats in the documentation: https://pandas.pydata.org/pandas-docs/stable/user_guide/indexing.html#returning-a-view-versus-a-copy\n",
      "  \n",
      "C:\\Users\\zbtin\\anaconda3\\lib\\site-packages\\pandas\\core\\indexing.py:965: SettingWithCopyWarning: \n",
      "A value is trying to be set on a copy of a slice from a DataFrame.\n",
      "Try using .loc[row_indexer,col_indexer] = value instead\n",
      "\n",
      "See the caveats in the documentation: https://pandas.pydata.org/pandas-docs/stable/user_guide/indexing.html#returning-a-view-versus-a-copy\n",
      "  self.obj[item] = s\n",
      "C:\\Users\\zbtin\\anaconda3\\lib\\site-packages\\ipykernel_launcher.py:10: SettingWithCopyWarning: \n",
      "A value is trying to be set on a copy of a slice from a DataFrame.\n",
      "Try using .loc[row_indexer,col_indexer] = value instead\n",
      "\n",
      "See the caveats in the documentation: https://pandas.pydata.org/pandas-docs/stable/user_guide/indexing.html#returning-a-view-versus-a-copy\n",
      "  # Remove the CWD from sys.path while we load stuff.\n",
      "C:\\Users\\zbtin\\anaconda3\\lib\\site-packages\\pandas\\core\\indexing.py:965: SettingWithCopyWarning: \n",
      "A value is trying to be set on a copy of a slice from a DataFrame.\n",
      "Try using .loc[row_indexer,col_indexer] = value instead\n",
      "\n",
      "See the caveats in the documentation: https://pandas.pydata.org/pandas-docs/stable/user_guide/indexing.html#returning-a-view-versus-a-copy\n",
      "  self.obj[item] = s\n"
     ]
    }
   ],
   "source": [
    "from sklearn.model_selection import train_test_split\n",
    "from sklearn.preprocessing import StandardScaler\n",
    "\n",
    "X1_train, X1_test, y1_train, y1_test = train_test_split(X, y1, test_size=0.2)\n",
    "X2_train, X2_test, y2_train, y2_test = train_test_split(X, y2, test_size=0.2)\n",
    "\n",
    "scaler1 = StandardScaler()\n",
    "X1_train[['Temperature of Patient']] = scaler1.fit_transform(X1_train[['Temperature of Patient']])\n",
    "scaler2 = StandardScaler()\n",
    "X2_train[['Temperature of Patient']] = scaler2.fit_transform(X2_train[['Temperature of Patient']])"
   ]
  },
  {
   "cell_type": "markdown",
   "metadata": {},
   "source": [
    "Standardizing Temperature to have all variable on the same scale. Again this helps with ML algorithms that are based on distance and allow equal weightage to each feature to begin with. I chose to Standardize, this is because I'm assuming a normal distribution, which is what we see when we take temperatures of a large sample. \n",
    "\n",
    "**Source:** 'Normal and t Distributions' by Bret Hanlon and Bret Larget Department of Statistics University of Wisconsin—Madison October 11–13, 2011"
   ]
  },
  {
   "cell_type": "code",
   "execution_count": 9,
   "metadata": {},
   "outputs": [
    {
     "data": {
      "text/html": [
       "<div>\n",
       "<style scoped>\n",
       "    .dataframe tbody tr th:only-of-type {\n",
       "        vertical-align: middle;\n",
       "    }\n",
       "\n",
       "    .dataframe tbody tr th {\n",
       "        vertical-align: top;\n",
       "    }\n",
       "\n",
       "    .dataframe thead th {\n",
       "        text-align: right;\n",
       "    }\n",
       "</style>\n",
       "<table border=\"1\" class=\"dataframe\">\n",
       "  <thead>\n",
       "    <tr style=\"text-align: right;\">\n",
       "      <th></th>\n",
       "      <th>Temperature of Patient</th>\n",
       "      <th>Occurence of Nausea</th>\n",
       "      <th>Lumbar Pain</th>\n",
       "      <th>Urine Pushing</th>\n",
       "      <th>Micturition Pains</th>\n",
       "      <th>Burning of urethra, itch, swelling of urethra outlet</th>\n",
       "    </tr>\n",
       "  </thead>\n",
       "  <tbody>\n",
       "    <tr>\n",
       "      <th>102</th>\n",
       "      <td>1.266362</td>\n",
       "      <td>0</td>\n",
       "      <td>0</td>\n",
       "      <td>0</td>\n",
       "      <td>0</td>\n",
       "      <td>0</td>\n",
       "    </tr>\n",
       "    <tr>\n",
       "      <th>37</th>\n",
       "      <td>-0.743072</td>\n",
       "      <td>0</td>\n",
       "      <td>1</td>\n",
       "      <td>0</td>\n",
       "      <td>0</td>\n",
       "      <td>0</td>\n",
       "    </tr>\n",
       "    <tr>\n",
       "      <th>38</th>\n",
       "      <td>-0.743072</td>\n",
       "      <td>0</td>\n",
       "      <td>0</td>\n",
       "      <td>1</td>\n",
       "      <td>0</td>\n",
       "      <td>0</td>\n",
       "    </tr>\n",
       "    <tr>\n",
       "      <th>20</th>\n",
       "      <td>-0.966342</td>\n",
       "      <td>0</td>\n",
       "      <td>0</td>\n",
       "      <td>1</td>\n",
       "      <td>1</td>\n",
       "      <td>0</td>\n",
       "    </tr>\n",
       "    <tr>\n",
       "      <th>91</th>\n",
       "      <td>1.043092</td>\n",
       "      <td>1</td>\n",
       "      <td>1</td>\n",
       "      <td>0</td>\n",
       "      <td>1</td>\n",
       "      <td>0</td>\n",
       "    </tr>\n",
       "  </tbody>\n",
       "</table>\n",
       "</div>"
      ],
      "text/plain": [
       "     Temperature of Patient  Occurence of Nausea  Lumbar Pain  Urine Pushing  \\\n",
       "102                1.266362                    0            0              0   \n",
       "37                -0.743072                    0            1              0   \n",
       "38                -0.743072                    0            0              1   \n",
       "20                -0.966342                    0            0              1   \n",
       "91                 1.043092                    1            1              0   \n",
       "\n",
       "     Micturition Pains  Burning of urethra, itch, swelling of urethra outlet  \n",
       "102                  0                                                  0     \n",
       "37                   0                                                  0     \n",
       "38                   0                                                  0     \n",
       "20                   1                                                  0     \n",
       "91                   1                                                  0     "
      ]
     },
     "execution_count": 9,
     "metadata": {},
     "output_type": "execute_result"
    }
   ],
   "source": [
    "X1_train.head()"
   ]
  },
  {
   "cell_type": "code",
   "execution_count": 10,
   "metadata": {},
   "outputs": [
    {
     "data": {
      "text/html": [
       "<div>\n",
       "<style scoped>\n",
       "    .dataframe tbody tr th:only-of-type {\n",
       "        vertical-align: middle;\n",
       "    }\n",
       "\n",
       "    .dataframe tbody tr th {\n",
       "        vertical-align: top;\n",
       "    }\n",
       "\n",
       "    .dataframe thead th {\n",
       "        text-align: right;\n",
       "    }\n",
       "</style>\n",
       "<table border=\"1\" class=\"dataframe\">\n",
       "  <thead>\n",
       "    <tr style=\"text-align: right;\">\n",
       "      <th></th>\n",
       "      <th>Temperature of Patient</th>\n",
       "      <th>Occurence of Nausea</th>\n",
       "      <th>Lumbar Pain</th>\n",
       "      <th>Urine Pushing</th>\n",
       "      <th>Micturition Pains</th>\n",
       "      <th>Burning of urethra, itch, swelling of urethra outlet</th>\n",
       "    </tr>\n",
       "  </thead>\n",
       "  <tbody>\n",
       "    <tr>\n",
       "      <th>40</th>\n",
       "      <td>-0.642656</td>\n",
       "      <td>0</td>\n",
       "      <td>1</td>\n",
       "      <td>0</td>\n",
       "      <td>0</td>\n",
       "      <td>0</td>\n",
       "    </tr>\n",
       "    <tr>\n",
       "      <th>90</th>\n",
       "      <td>1.078806</td>\n",
       "      <td>0</td>\n",
       "      <td>0</td>\n",
       "      <td>0</td>\n",
       "      <td>0</td>\n",
       "      <td>0</td>\n",
       "    </tr>\n",
       "    <tr>\n",
       "      <th>6</th>\n",
       "      <td>-1.364559</td>\n",
       "      <td>0</td>\n",
       "      <td>0</td>\n",
       "      <td>1</td>\n",
       "      <td>1</td>\n",
       "      <td>1</td>\n",
       "    </tr>\n",
       "    <tr>\n",
       "      <th>89</th>\n",
       "      <td>1.078806</td>\n",
       "      <td>1</td>\n",
       "      <td>1</td>\n",
       "      <td>1</td>\n",
       "      <td>1</td>\n",
       "      <td>1</td>\n",
       "    </tr>\n",
       "    <tr>\n",
       "      <th>77</th>\n",
       "      <td>0.745620</td>\n",
       "      <td>0</td>\n",
       "      <td>1</td>\n",
       "      <td>1</td>\n",
       "      <td>0</td>\n",
       "      <td>1</td>\n",
       "    </tr>\n",
       "  </tbody>\n",
       "</table>\n",
       "</div>"
      ],
      "text/plain": [
       "    Temperature of Patient  Occurence of Nausea  Lumbar Pain  Urine Pushing  \\\n",
       "40               -0.642656                    0            1              0   \n",
       "90                1.078806                    0            0              0   \n",
       "6                -1.364559                    0            0              1   \n",
       "89                1.078806                    1            1              1   \n",
       "77                0.745620                    0            1              1   \n",
       "\n",
       "    Micturition Pains  Burning of urethra, itch, swelling of urethra outlet  \n",
       "40                  0                                                  0     \n",
       "90                  0                                                  0     \n",
       "6                   1                                                  1     \n",
       "89                  1                                                  1     \n",
       "77                  0                                                  1     "
      ]
     },
     "execution_count": 10,
     "metadata": {},
     "output_type": "execute_result"
    }
   ],
   "source": [
    "X2_train.head()"
   ]
  },
  {
   "cell_type": "markdown",
   "metadata": {},
   "source": [
    "Data Preprocessing Complete\n",
    "\n",
    "### Data Modelling\n",
    "I'll be trying various ML algorithms and see which ones can be worked out. We would want to diagnose those who have the disease correctly. Since, The conditions we are trying to get our data to classify do not have very high fatality rates, we will not face complications in case of false-positive, and hence we would be looking more towards recall as our primary evaluation metric. \n",
    "\n",
    "We will work on each condition seperately, so let's run classification for 'Inflammation of urinary bladder' first\n",
    "\n",
    "**Note:** This dataset is pretty small and has only a few features, instead of running GridSearchCV or RandomSearchCV for metaparameters (e.g. k for KNN), I will just tweak them manually and showcase the ones that I think provide the best estimate."
   ]
  },
  {
   "cell_type": "markdown",
   "metadata": {},
   "source": [
    "##### Algorithm 1: Logistic Regression"
   ]
  },
  {
   "cell_type": "code",
   "execution_count": 26,
   "metadata": {},
   "outputs": [
    {
     "data": {
      "text/plain": [
       "LogisticRegression(C=1.0, class_weight=None, dual=False, fit_intercept=True,\n",
       "                   intercept_scaling=1, l1_ratio=None, max_iter=100,\n",
       "                   multi_class='auto', n_jobs=None, penalty='l2',\n",
       "                   random_state=None, solver='lbfgs', tol=0.0001, verbose=0,\n",
       "                   warm_start=False)"
      ]
     },
     "execution_count": 26,
     "metadata": {},
     "output_type": "execute_result"
    }
   ],
   "source": [
    "from sklearn.linear_model import LogisticRegression\n",
    "classifier = LogisticRegression()\n",
    "classifier.fit(X1_train, y1_train)"
   ]
  },
  {
   "cell_type": "code",
   "execution_count": 27,
   "metadata": {},
   "outputs": [],
   "source": [
    "yhat = classifier.predict(X1_test)"
   ]
  },
  {
   "cell_type": "code",
   "execution_count": 28,
   "metadata": {},
   "outputs": [
    {
     "data": {
      "text/plain": [
       "array([[11,  0],\n",
       "       [13,  0]], dtype=int64)"
      ]
     },
     "execution_count": 28,
     "metadata": {},
     "output_type": "execute_result"
    }
   ],
   "source": [
    "from sklearn.metrics import confusion_matrix\n",
    "cm = confusion_matrix(y1_test, yhat)\n",
    "cm # Test Score"
   ]
  },
  {
   "cell_type": "markdown",
   "metadata": {},
   "source": [
    "Logistic Regression is predicting all values as negative. Leading to correct negative predictions and incorrect postive ones, exactly the opposite of what we would want.\n",
    "\n",
    "##### Algorithm 2: K-NN"
   ]
  },
  {
   "cell_type": "code",
   "execution_count": 29,
   "metadata": {},
   "outputs": [
    {
     "data": {
      "text/plain": [
       "array([[11,  0],\n",
       "       [13,  0]], dtype=int64)"
      ]
     },
     "execution_count": 29,
     "metadata": {},
     "output_type": "execute_result"
    }
   ],
   "source": [
    "from sklearn.neighbors import KNeighborsClassifier\n",
    "classifier = KNeighborsClassifier(n_neighbors = 5)\n",
    "classifier.fit(X1_train, y1_train)\n",
    "\n",
    "yhat = classifier.predict(X1_test)\n",
    "\n",
    "cm = confusion_matrix(y1_test, yhat)\n",
    "cm # Test Score"
   ]
  },
  {
   "cell_type": "markdown",
   "metadata": {},
   "source": [
    "##### Algorithm 3a: SVM (kernel = linear)"
   ]
  },
  {
   "cell_type": "code",
   "execution_count": 30,
   "metadata": {},
   "outputs": [
    {
     "data": {
      "text/plain": [
       "array([[11,  0],\n",
       "       [ 0, 13]], dtype=int64)"
      ]
     },
     "execution_count": 30,
     "metadata": {},
     "output_type": "execute_result"
    }
   ],
   "source": [
    "from sklearn.svm import SVC\n",
    "classifier = SVC(kernel = 'linear')\n",
    "classifier.fit(X1_train, y1_train)\n",
    "\n",
    "yhat = classifier.predict(X1_test)\n",
    "\n",
    "cm = confusion_matrix(y1_test, yhat)\n",
    "cm # Test Score"
   ]
  },
  {
   "cell_type": "code",
   "execution_count": 31,
   "metadata": {},
   "outputs": [
    {
     "data": {
      "text/plain": [
       "array([[50,  0],\n",
       "       [ 0, 46]], dtype=int64)"
      ]
     },
     "execution_count": 31,
     "metadata": {},
     "output_type": "execute_result"
    }
   ],
   "source": [
    "confusion_matrix(y1_train, classifier.predict(X1_train))"
   ]
  },
  {
   "cell_type": "markdown",
   "metadata": {},
   "source": [
    "We see a 100% accuracy and 100% recall through the SVM classifier using a linear kernal. This is usually alarming but since the dataset is only 120 data-points this is something that is achievable.\n",
    "\n",
    "I'll try a couple other algorithms to see how they perform as well.\n",
    "\n",
    "##### Algorithm 3b: SVC (kernel = rbf)"
   ]
  },
  {
   "cell_type": "code",
   "execution_count": 32,
   "metadata": {},
   "outputs": [
    {
     "data": {
      "text/plain": [
       "array([[11,  0],\n",
       "       [13,  0]], dtype=int64)"
      ]
     },
     "execution_count": 32,
     "metadata": {},
     "output_type": "execute_result"
    }
   ],
   "source": [
    "classifier = SVC(kernel = 'rbf')\n",
    "classifier.fit(X1_train, y1_train)\n",
    "\n",
    "yhat = classifier.predict(X1_test)\n",
    "\n",
    "cm = confusion_matrix(y1_test, yhat)\n",
    "cm # Test Score"
   ]
  },
  {
   "cell_type": "markdown",
   "metadata": {},
   "source": [
    "##### Algorithm 3c: SVC (Kernel = poly)"
   ]
  },
  {
   "cell_type": "code",
   "execution_count": 33,
   "metadata": {},
   "outputs": [
    {
     "data": {
      "text/plain": [
       "array([[11,  0],\n",
       "       [13,  0]], dtype=int64)"
      ]
     },
     "execution_count": 33,
     "metadata": {},
     "output_type": "execute_result"
    }
   ],
   "source": [
    "classifier = SVC(kernel = 'poly')\n",
    "classifier.fit(X1_train, y1_train)\n",
    "\n",
    "yhat = classifier.predict(X1_test)\n",
    "\n",
    "cm = confusion_matrix(y1_test, yhat)\n",
    "cm # Test Score"
   ]
  },
  {
   "cell_type": "markdown",
   "metadata": {},
   "source": [
    "##### Algorithm 4: Naive Bayes"
   ]
  },
  {
   "cell_type": "code",
   "execution_count": 34,
   "metadata": {},
   "outputs": [
    {
     "data": {
      "text/plain": [
       "array([[11,  0],\n",
       "       [13,  0]], dtype=int64)"
      ]
     },
     "execution_count": 34,
     "metadata": {},
     "output_type": "execute_result"
    }
   ],
   "source": [
    "from sklearn.naive_bayes import GaussianNB\n",
    "classifier = GaussianNB()\n",
    "classifier.fit(X1_train, y1_train)\n",
    "\n",
    "yhat = classifier.predict(X1_test)\n",
    "\n",
    "cm = confusion_matrix(y1_test, yhat)\n",
    "cm # Test Score"
   ]
  },
  {
   "cell_type": "markdown",
   "metadata": {},
   "source": [
    "##### Algorithm 5: Decision Trees"
   ]
  },
  {
   "cell_type": "code",
   "execution_count": 35,
   "metadata": {},
   "outputs": [
    {
     "data": {
      "text/plain": [
       "array([[11,  0],\n",
       "       [ 0, 13]], dtype=int64)"
      ]
     },
     "execution_count": 35,
     "metadata": {},
     "output_type": "execute_result"
    }
   ],
   "source": [
    "from sklearn.tree import DecisionTreeClassifier\n",
    "classifier = DecisionTreeClassifier(criterion = 'entropy')\n",
    "classifier.fit(X1_train, y1_train)\n",
    "\n",
    "yhat = classifier.predict(X1_test)\n",
    "\n",
    "cm = confusion_matrix(y1_test, yhat)\n",
    "cm # Test Score"
   ]
  },
  {
   "cell_type": "code",
   "execution_count": 36,
   "metadata": {},
   "outputs": [
    {
     "data": {
      "image/png": "[encoded data removed]",
      "text/plain": [
       "<Figure size 432x288 with 1 Axes>"
      ]
     },
     "metadata": {
      "needs_background": "light"
     },
     "output_type": "display_data"
    }
   ],
   "source": [
    "from sklearn import tree\n",
    "\n",
    "tree.plot_tree(classifier)\n",
    "plt.show()"
   ]
  },
  {
   "cell_type": "markdown",
   "metadata": {},
   "source": [
    "In the tree above, we can see that those who show signs of Urine Pushing tend to be suffering from Inflammation. If you are not urine pushing, then we look at micturation pains, if you do not have any micturation pains, then you do not have inflammation. If you are not urine pushing, but have micturation pains, we look to lumbar pain, which if exists points to inflammation, otherwise not. \n",
    "\n",
    "So we can say that given this data, we see the following rules:\n",
    "- If you have Urine Pushing then you have Inflammation of urinary bladder\n",
    "- If you do not have Urine Pushing or Micturation pains then you do NOT have inflammation\n",
    "- If you do not have Urine Pushing, but have Micturation and Lumbar Pains then you have inflammation \n",
    "- If you have Micturation Pains, but no Urine pushing and Lumbar Pains then you do NOT have inflammation"
   ]
  },
  {
   "cell_type": "markdown",
   "metadata": {},
   "source": [
    "We see again a 100% accuracy and 100% recall, this time with a decision tree classifier. Since out Decision Tree is so adept, we do not need to use any ensemble techniques.\n",
    "\n",
    "Now let's create a summary."
   ]
  },
  {
   "cell_type": "code",
   "execution_count": 22,
   "metadata": {},
   "outputs": [
    {
     "data": {
      "text/html": [
       "<div>\n",
       "<style scoped>\n",
       "    .dataframe tbody tr th:only-of-type {\n",
       "        vertical-align: middle;\n",
       "    }\n",
       "\n",
       "    .dataframe tbody tr th {\n",
       "        vertical-align: top;\n",
       "    }\n",
       "\n",
       "    .dataframe thead th {\n",
       "        text-align: right;\n",
       "    }\n",
       "</style>\n",
       "<table border=\"1\" class=\"dataframe\">\n",
       "  <thead>\n",
       "    <tr style=\"text-align: right;\">\n",
       "      <th></th>\n",
       "      <th>Accuracy</th>\n",
       "      <th>Recall</th>\n",
       "      <th>Precision</th>\n",
       "      <th>F1-Score</th>\n",
       "    </tr>\n",
       "  </thead>\n",
       "  <tbody>\n",
       "    <tr>\n",
       "      <th>Logistic Regression</th>\n",
       "      <td>0.52</td>\n",
       "      <td>0</td>\n",
       "      <td>0</td>\n",
       "      <td>0</td>\n",
       "    </tr>\n",
       "    <tr>\n",
       "      <th>KNN</th>\n",
       "      <td>0.52</td>\n",
       "      <td>0</td>\n",
       "      <td>0</td>\n",
       "      <td>0</td>\n",
       "    </tr>\n",
       "    <tr>\n",
       "      <th>Linear SVC</th>\n",
       "      <td>1.00</td>\n",
       "      <td>1</td>\n",
       "      <td>1</td>\n",
       "      <td>1</td>\n",
       "    </tr>\n",
       "    <tr>\n",
       "      <th>RBF SVC</th>\n",
       "      <td>0.52</td>\n",
       "      <td>0</td>\n",
       "      <td>0</td>\n",
       "      <td>0</td>\n",
       "    </tr>\n",
       "    <tr>\n",
       "      <th>Poly SVC</th>\n",
       "      <td>0.52</td>\n",
       "      <td>0</td>\n",
       "      <td>0</td>\n",
       "      <td>0</td>\n",
       "    </tr>\n",
       "    <tr>\n",
       "      <th>Naive Bayes</th>\n",
       "      <td>0.52</td>\n",
       "      <td>0</td>\n",
       "      <td>0</td>\n",
       "      <td>0</td>\n",
       "    </tr>\n",
       "    <tr>\n",
       "      <th>Decision Tree</th>\n",
       "      <td>1.00</td>\n",
       "      <td>1</td>\n",
       "      <td>1</td>\n",
       "      <td>1</td>\n",
       "    </tr>\n",
       "  </tbody>\n",
       "</table>\n",
       "</div>"
      ],
      "text/plain": [
       "                     Accuracy  Recall  Precision  F1-Score\n",
       "Logistic Regression      0.52       0          0         0\n",
       "KNN                      0.52       0          0         0\n",
       "Linear SVC               1.00       1          1         1\n",
       "RBF SVC                  0.52       0          0         0\n",
       "Poly SVC                 0.52       0          0         0\n",
       "Naive Bayes              0.52       0          0         0\n",
       "Decision Tree            1.00       1          1         1"
      ]
     },
     "execution_count": 22,
     "metadata": {},
     "output_type": "execute_result"
    }
   ],
   "source": [
    "evaluators = ['Accuracy', 'Recall', 'Precision', 'F1-Score']\n",
    "lr = [0.52, 0, 0, 0]\n",
    "knn = [0.52, 0, 0, 0]\n",
    "lsvc = [1, 1, 1, 1]\n",
    "rsvc = [0.52, 0, 0, 0]\n",
    "psvc = [0.52, 0, 0, 0]\n",
    "nb = [0.52, 0, 0, 0]\n",
    "dt = [1, 1, 1, 1]\n",
    "index = ['Logistic Regression', 'KNN', 'Linear SVC', 'RBF SVC', 'Poly SVC', 'Naive Bayes', 'Decision Tree']\n",
    "pd.DataFrame([lr, knn, lsvc, rsvc, psvc, nb, dt], columns = evaluators, index=index)"
   ]
  },
  {
   "cell_type": "markdown",
   "metadata": {},
   "source": [
    "Now let's try to classify 'Nephritis of renal pelvis origin'\n",
    "\n",
    "##### Logistic Regression"
   ]
  },
  {
   "cell_type": "code",
   "execution_count": 23,
   "metadata": {},
   "outputs": [
    {
     "data": {
      "text/plain": [
       "array([[ 0, 12],\n",
       "       [ 0, 12]], dtype=int64)"
      ]
     },
     "execution_count": 23,
     "metadata": {},
     "output_type": "execute_result"
    }
   ],
   "source": [
    "classifier = LogisticRegression()\n",
    "classifier.fit(X2_train, y2_train)\n",
    "yhat = classifier.predict(X2_test)\n",
    "cm = confusion_matrix(y2_test, yhat)\n",
    "cm # Test Score"
   ]
  },
  {
   "cell_type": "markdown",
   "metadata": {},
   "source": [
    "##### K-NN"
   ]
  },
  {
   "cell_type": "code",
   "execution_count": 40,
   "metadata": {},
   "outputs": [
    {
     "data": {
      "text/plain": [
       "array([[ 0, 15],\n",
       "       [ 0,  9]], dtype=int64)"
      ]
     },
     "execution_count": 40,
     "metadata": {},
     "output_type": "execute_result"
    }
   ],
   "source": [
    "classifier = KNeighborsClassifier(n_neighbors = 5)\n",
    "classifier.fit(X2_train, y2_train)\n",
    "yhat = classifier.predict(X2_test)\n",
    "cm = confusion_matrix(y2_test, yhat)\n",
    "cm # Test Score"
   ]
  },
  {
   "cell_type": "markdown",
   "metadata": {},
   "source": [
    "##### Linear SVC"
   ]
  },
  {
   "cell_type": "code",
   "execution_count": 41,
   "metadata": {},
   "outputs": [
    {
     "data": {
      "text/plain": [
       "array([[ 0, 15],\n",
       "       [ 0,  9]], dtype=int64)"
      ]
     },
     "execution_count": 41,
     "metadata": {},
     "output_type": "execute_result"
    }
   ],
   "source": [
    "classifier = SVC(kernel = 'linear')\n",
    "classifier.fit(X2_train, y2_train)\n",
    "yhat = classifier.predict(X2_test)\n",
    "cm = confusion_matrix(y2_test, yhat)\n",
    "cm # Test Score"
   ]
  },
  {
   "cell_type": "markdown",
   "metadata": {},
   "source": [
    "##### rbf SVC"
   ]
  },
  {
   "cell_type": "code",
   "execution_count": 42,
   "metadata": {},
   "outputs": [
    {
     "data": {
      "text/plain": [
       "array([[15,  0],\n",
       "       [ 9,  0]], dtype=int64)"
      ]
     },
     "execution_count": 42,
     "metadata": {},
     "output_type": "execute_result"
    }
   ],
   "source": [
    "classifier = SVC(kernel = 'rbf')\n",
    "classifier.fit(X2_train, y2_train)\n",
    "yhat = classifier.predict(X2_test)\n",
    "cm = confusion_matrix(y2_test, yhat)\n",
    "cm # Test Score"
   ]
  },
  {
   "cell_type": "markdown",
   "metadata": {},
   "source": [
    "##### poly SVC"
   ]
  },
  {
   "cell_type": "code",
   "execution_count": 43,
   "metadata": {},
   "outputs": [
    {
     "data": {
      "text/plain": [
       "array([[ 4, 11],\n",
       "       [ 4,  5]], dtype=int64)"
      ]
     },
     "execution_count": 43,
     "metadata": {},
     "output_type": "execute_result"
    }
   ],
   "source": [
    "classifier = SVC(kernel = 'poly')\n",
    "classifier.fit(X2_train, y2_train)\n",
    "yhat = classifier.predict(X2_test)\n",
    "cm = confusion_matrix(y2_test, yhat)\n",
    "cm # Test Score"
   ]
  },
  {
   "cell_type": "markdown",
   "metadata": {},
   "source": [
    "##### Naive Bayes"
   ]
  },
  {
   "cell_type": "code",
   "execution_count": 44,
   "metadata": {},
   "outputs": [
    {
     "data": {
      "text/plain": [
       "array([[15,  0],\n",
       "       [ 4,  5]], dtype=int64)"
      ]
     },
     "execution_count": 44,
     "metadata": {},
     "output_type": "execute_result"
    }
   ],
   "source": [
    "classifier = GaussianNB()\n",
    "classifier.fit(X2_train, y2_train)\n",
    "yhat = classifier.predict(X2_test)\n",
    "cm = confusion_matrix(y2_test, yhat)\n",
    "cm # Test Score"
   ]
  },
  {
   "cell_type": "markdown",
   "metadata": {},
   "source": [
    "##### DecisionTree "
   ]
  },
  {
   "cell_type": "code",
   "execution_count": 45,
   "metadata": {},
   "outputs": [
    {
     "data": {
      "text/plain": [
       "array([[8, 7],\n",
       "       [0, 9]], dtype=int64)"
      ]
     },
     "execution_count": 45,
     "metadata": {},
     "output_type": "execute_result"
    }
   ],
   "source": [
    "classifier = DecisionTreeClassifier(criterion = 'entropy')\n",
    "classifier.fit(X2_train, y2_train)\n",
    "yhat = classifier.predict(X2_test)\n",
    "cm = confusion_matrix(y2_test, yhat)\n",
    "cm # Test Score"
   ]
  },
  {
   "cell_type": "markdown",
   "metadata": {},
   "source": [
    "We see varying degrees of success in our classification. Currently, the DecisionTree method seems to be doing the best as it has positively identified all the positive cases, however it has a meager 53.3% success in determining negative cases. This is bad as many people would need to be retested, however it still catches 100% of all our cases. "
   ]
  },
  {
   "cell_type": "markdown",
   "metadata": {},
   "source": [
    "##### RandomForest"
   ]
  },
  {
   "cell_type": "code",
   "execution_count": 55,
   "metadata": {},
   "outputs": [
    {
     "data": {
      "text/plain": [
       "array([[15,  0],\n",
       "       [ 0,  9]], dtype=int64)"
      ]
     },
     "execution_count": 55,
     "metadata": {},
     "output_type": "execute_result"
    }
   ],
   "source": [
    "from sklearn.ensemble import RandomForestClassifier\n",
    "classifier = RandomForestClassifier(n_estimators = 10, criterion = 'entropy')\n",
    "classifier.fit(X2_train, y2_train)\n",
    "yhat = classifier.predict(X2_test)\n",
    "cm = confusion_matrix(y2_test, yhat)\n",
    "cm # Test Score"
   ]
  },
  {
   "cell_type": "markdown",
   "metadata": {},
   "source": [
    "Here we see that power of RandomForest, by combining multiple Decision Tree models we have a model that gives us 100% accuracy and 100% recall. "
   ]
  },
  {
   "cell_type": "code",
   "execution_count": 62,
   "metadata": {},
   "outputs": [
    {
     "data": {
      "text/html": [
       "<div>\n",
       "<style scoped>\n",
       "    .dataframe tbody tr th:only-of-type {\n",
       "        vertical-align: middle;\n",
       "    }\n",
       "\n",
       "    .dataframe tbody tr th {\n",
       "        vertical-align: top;\n",
       "    }\n",
       "\n",
       "    .dataframe thead th {\n",
       "        text-align: right;\n",
       "    }\n",
       "</style>\n",
       "<table border=\"1\" class=\"dataframe\">\n",
       "  <thead>\n",
       "    <tr style=\"text-align: right;\">\n",
       "      <th></th>\n",
       "      <th>Accuracy</th>\n",
       "      <th>Recall</th>\n",
       "      <th>Precision</th>\n",
       "      <th>F1-Score</th>\n",
       "    </tr>\n",
       "  </thead>\n",
       "  <tbody>\n",
       "    <tr>\n",
       "      <th>Logistic Regression</th>\n",
       "      <td>0.375</td>\n",
       "      <td>1.0000</td>\n",
       "      <td>0.375</td>\n",
       "      <td>0.546</td>\n",
       "    </tr>\n",
       "    <tr>\n",
       "      <th>KNN</th>\n",
       "      <td>0.375</td>\n",
       "      <td>1.0000</td>\n",
       "      <td>0.375</td>\n",
       "      <td>0.546</td>\n",
       "    </tr>\n",
       "    <tr>\n",
       "      <th>Linear SVC</th>\n",
       "      <td>0.375</td>\n",
       "      <td>1.0000</td>\n",
       "      <td>0.375</td>\n",
       "      <td>0.546</td>\n",
       "    </tr>\n",
       "    <tr>\n",
       "      <th>RBF SVC</th>\n",
       "      <td>0.625</td>\n",
       "      <td>0.0000</td>\n",
       "      <td>0.000</td>\n",
       "      <td>0.000</td>\n",
       "    </tr>\n",
       "    <tr>\n",
       "      <th>Poly SVC</th>\n",
       "      <td>0.375</td>\n",
       "      <td>0.3125</td>\n",
       "      <td>0.550</td>\n",
       "      <td>0.399</td>\n",
       "    </tr>\n",
       "    <tr>\n",
       "      <th>Naive Bayes</th>\n",
       "      <td>0.830</td>\n",
       "      <td>1.0000</td>\n",
       "      <td>0.550</td>\n",
       "      <td>0.709</td>\n",
       "    </tr>\n",
       "    <tr>\n",
       "      <th>Decision Tree</th>\n",
       "      <td>0.708</td>\n",
       "      <td>0.5625</td>\n",
       "      <td>1.000</td>\n",
       "      <td>0.720</td>\n",
       "    </tr>\n",
       "    <tr>\n",
       "      <th>Random Forest</th>\n",
       "      <td>1.000</td>\n",
       "      <td>1.0000</td>\n",
       "      <td>1.000</td>\n",
       "      <td>1.000</td>\n",
       "    </tr>\n",
       "  </tbody>\n",
       "</table>\n",
       "</div>"
      ],
      "text/plain": [
       "                     Accuracy  Recall  Precision  F1-Score\n",
       "Logistic Regression     0.375  1.0000      0.375     0.546\n",
       "KNN                     0.375  1.0000      0.375     0.546\n",
       "Linear SVC              0.375  1.0000      0.375     0.546\n",
       "RBF SVC                 0.625  0.0000      0.000     0.000\n",
       "Poly SVC                0.375  0.3125      0.550     0.399\n",
       "Naive Bayes             0.830  1.0000      0.550     0.709\n",
       "Decision Tree           0.708  0.5625      1.000     0.720\n",
       "Random Forest           1.000  1.0000      1.000     1.000"
      ]
     },
     "execution_count": 62,
     "metadata": {},
     "output_type": "execute_result"
    }
   ],
   "source": [
    "evaluators = ['Accuracy', 'Recall', 'Precision', 'F1-Score']\n",
    "lr = [0.375, 1, 0.375, 0.546]\n",
    "knn = [0.375, 1, 0.375, 0.546]\n",
    "lsvc = [0.375, 1, 0.375, 0.546]\n",
    "rsvc = [0.625, 0, 0, 0]\n",
    "psvc = [0.375, 0.3125, 0.55, 0.399]\n",
    "nb = [0.83, 1, 0.55, 0.709]\n",
    "dt = [0.708, 0.5625, 1, 0.72]\n",
    "rf = [1, 1, 1, 1]\n",
    "index = ['Logistic Regression', 'KNN', 'Linear SVC', 'RBF SVC', 'Poly SVC', 'Naive Bayes', 'Decision Tree', 'Random Forest']\n",
    "pd.DataFrame([lr, knn, lsvc, rsvc, psvc, nb, dt, rf], columns = evaluators, index=index)"
   ]
  },
  {
   "cell_type": "code",
   "execution_count": null,
   "metadata": {},
   "outputs": [],
   "source": []
  }
 ],
 "metadata": {
  "kernelspec": {
   "display_name": "Python 3",
   "language": "python",
   "name": "python3"
  },
  "language_info": {
   "codemirror_mode": {
    "name": "ipython",
    "version": 3
   },
   "file_extension": ".py",
   "mimetype": "text/x-python",
   "name": "python",
   "nbconvert_exporter": "python",
   "pygments_lexer": "ipython3",
   "version": "3.7.6"
  }
 },
 "nbformat": 4,
 "nbformat_minor": 4
}
